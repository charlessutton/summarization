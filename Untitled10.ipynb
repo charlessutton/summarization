{
 "cells": [
  {
   "cell_type": "markdown",
   "metadata": {},
   "source": [
    "# recuperation de la derniere couche"
   ]
  },
  {
   "cell_type": "code",
   "execution_count": 1,
   "metadata": {
    "collapsed": false
   },
   "outputs": [
    {
     "name": "stderr",
     "output_type": "stream",
     "text": [
      "Using Theano backend.\n"
     ]
    }
   ],
   "source": [
    "from keras.models import Sequential\n",
    "from keras.layers.core import Dense, Activation, Dropout\n",
    "from keras.layers.recurrent import LSTM"
   ]
  },
  {
   "cell_type": "code",
   "execution_count": 5,
   "metadata": {
    "collapsed": true
   },
   "outputs": [],
   "source": [
    "import numpy as np\n",
    "import random\n",
    "import sys\n",
    "import os    \n",
    "os.environ['THEANO_FLAGS'] = \"device=gpu, floatX=float32\"\n",
    "import gensim\n",
    "from functions.words_chars import vocabulary_from_json_corpus\n",
    "\n",
    "json_corpus_path = \"/home/ubuntu/summarization_query_oriented/data/wikipedia/json/td_qfs_rank_1/\"\n",
    "\n",
    "# building vocabulary of the corpus\n",
    "words = vocabulary_from_json_corpus(json_corpus_path)\n",
    "word_indices = dict((c, i) for i, c in enumerate(words))\n",
    "indices_word = dict((i, c) for i, c in enumerate(words))\n",
    "\n",
    "maxlen=10"
   ]
  },
  {
   "cell_type": "code",
   "execution_count": 6,
   "metadata": {
    "collapsed": false
   },
   "outputs": [
    {
     "name": "stdout",
     "output_type": "stream",
     "text": [
      "Build model...\n",
      "Model built...\n"
     ]
    }
   ],
   "source": [
    "\n",
    "print('Build model...')\n",
    "model = Sequential()\n",
    "model.add(LSTM(400, return_sequences=True, input_shape=(maxlen, len(word_indices)), name= \"lstm_1\"))\n",
    "model.add(Dropout(0.6))\n",
    "model.add(LSTM(400, return_sequences=False, name = \"lstm_2\"))\n",
    "model.add(Dropout(0.6))\n",
    "model.add(Dense(len(words),name=\"dense_1\"))\n",
    "#model.add(Dense(1000))\n",
    "model.add(Activation('softmax'))\n",
    "model.compile(loss='categorical_crossentropy', optimizer='sgd')\n",
    "print('Model built...')"
   ]
  },
  {
   "cell_type": "code",
   "execution_count": null,
   "metadata": {
    "collapsed": true
   },
   "outputs": [],
   "source": [
    "#charger model (avec nom des couches)"
   ]
  },
  {
   "cell_type": "code",
   "execution_count": 7,
   "metadata": {
    "collapsed": true
   },
   "outputs": [],
   "source": [
    "model_folder = \"/home/ubuntu/summarization_query_oriented/nn_models/language_models/RNN/wider_30102016/\"\n",
    "model_name = \"tdqfs_lstm_wider_corpus_epoch_35_valloss_7.58.hdf5\""
   ]
  },
  {
   "cell_type": "code",
   "execution_count": 8,
   "metadata": {
    "collapsed": true
   },
   "outputs": [],
   "source": [
    "model.load_weights(model_folder+model_name)"
   ]
  },
  {
   "cell_type": "code",
   "execution_count": 9,
   "metadata": {
    "collapsed": false
   },
   "outputs": [
    {
     "name": "stdout",
     "output_type": "stream",
     "text": [
      "____________________________________________________________________________________________________\n",
      "Layer (type)                     Output Shape          Param #     Connected to                     \n",
      "====================================================================================================\n",
      "lstm_1 (LSTM)                    (None, 10, 400)       133699200   lstm_input_1[0][0]               \n",
      "____________________________________________________________________________________________________\n",
      "dropout_1 (Dropout)              (None, 10, 400)       0           lstm_1[0][0]                     \n",
      "____________________________________________________________________________________________________\n",
      "lstm_2 (LSTM)                    (None, 400)           1281600     dropout_1[0][0]                  \n",
      "____________________________________________________________________________________________________\n",
      "dropout_2 (Dropout)              (None, 400)           0           lstm_2[0][0]                     \n",
      "____________________________________________________________________________________________________\n",
      "dense_1 (Dense)                  (None, 83161)         33347561    dropout_2[0][0]                  \n",
      "____________________________________________________________________________________________________\n",
      "activation_1 (Activation)        (None, 83161)         0           dense_1[0][0]                    \n",
      "====================================================================================================\n",
      "Total params: 168328361\n",
      "____________________________________________________________________________________________________\n"
     ]
    }
   ],
   "source": [
    "model.summary()"
   ]
  },
  {
   "cell_type": "code",
   "execution_count": 14,
   "metadata": {
    "collapsed": false
   },
   "outputs": [],
   "source": [
    "model_2 = Sequential()\n",
    "model_2.add(LSTM(400, return_sequences=True, input_shape=(maxlen, len(word_indices)),  weights=model.layers[0].get_weights()))\n",
    "model_2.add(LSTM(400, return_sequences=False, weights = model.layers[2].get_weights()))\n",
    "model_2.compile(loss='categorical_crossentropy', optimizer='sgd')\n",
    "#model.layers[2].name"
   ]
  },
  {
   "cell_type": "code",
   "execution_count": 12,
   "metadata": {
    "collapsed": false
   },
   "outputs": [
    {
     "data": {
      "text/plain": [
       "'lstm_2'"
      ]
     },
     "execution_count": 12,
     "metadata": {},
     "output_type": "execute_result"
    }
   ],
   "source": []
  }
 ],
 "metadata": {
  "kernelspec": {
   "display_name": "Python 2",
   "language": "python",
   "name": "python2"
  },
  "language_info": {
   "codemirror_mode": {
    "name": "ipython",
    "version": 2
   },
   "file_extension": ".py",
   "mimetype": "text/x-python",
   "name": "python",
   "nbconvert_exporter": "python",
   "pygments_lexer": "ipython2",
   "version": "2.7.11"
  }
 },
 "nbformat": 4,
 "nbformat_minor": 0
}
