{
 "cells": [
  {
   "cell_type": "code",
   "execution_count": 1,
   "metadata": {
    "collapsed": true
   },
   "outputs": [],
   "source": [
    "import gensim"
   ]
  },
  {
   "cell_type": "code",
   "execution_count": 11,
   "metadata": {
    "collapsed": false
   },
   "outputs": [],
   "source": [
    "sentence = \"hI how are you my friend did you go to the swimming pool\" \n",
    "sentence_prep = gensim.utils.simple_preprocess(sentence)"
   ]
  },
  {
   "cell_type": "code",
   "execution_count": null,
   "metadata": {
    "collapsed": true
   },
   "outputs": [],
   "source": []
  },
  {
   "cell_type": "code",
   "execution_count": 12,
   "metadata": {
    "collapsed": false
   },
   "outputs": [
    {
     "data": {
      "text/plain": [
       "[u'hi',\n",
       " u'how',\n",
       " u'are',\n",
       " u'you',\n",
       " u'my',\n",
       " u'friend',\n",
       " u'did',\n",
       " u'you',\n",
       " u'go',\n",
       " u'to',\n",
       " u'the',\n",
       " u'swimming',\n",
       " u'pool']"
      ]
     },
     "execution_count": 12,
     "metadata": {},
     "output_type": "execute_result"
    }
   ],
   "source": [
    "sentence_prep"
   ]
  },
  {
   "cell_type": "code",
   "execution_count": null,
   "metadata": {
    "collapsed": true
   },
   "outputs": [],
   "source": []
  },
  {
   "cell_type": "code",
   "execution_count": 13,
   "metadata": {
    "collapsed": true
   },
   "outputs": [],
   "source": [
    "def stop_words() :\n",
    "    return ['a', 'able', 'about', 'above', 'abst', 'accordance',\n",
    "            'according', 'accordingly', 'across', 'act', 'actually',\n",
    "            'added', 'adj', 'adopted', 'affected', 'affecting', 'affects',\n",
    "            'after', 'afterwards', 'again', 'against', 'ah', 'all',\n",
    "            'almost', 'alone', 'along', 'already', 'also', 'although',\n",
    "            'always', 'am', 'among', 'amongst', 'an', 'and', 'announce',\n",
    "            'another', 'any', 'anybody', 'anyhow', 'anymore', 'anyone',\n",
    "            'anything', 'anyway', 'anyways', 'anywhere', 'apparently',\n",
    "            'approximately', 'are', 'aren', 'arent', 'arise', 'around',\n",
    "            'as', 'aside', 'ask', 'asking', 'at', 'auth', 'available',\n",
    "            'away', 'awfully', 'b', 'back', 'be', 'became', 'because',\n",
    "            'become', 'becomes', 'becoming', 'been', 'before',\n",
    "            'beforehand', 'begin', 'beginning', 'beginnings', 'begins',\n",
    "            'behind', 'being', 'believe', 'below', 'beside', 'besides',\n",
    "            'between', 'beyond', 'biol', 'both', 'brief', 'briefly',\n",
    "            'but', 'by', 'c', 'ca', 'came', 'can', 'cannot', \"can't\",\n",
    "            'certain', 'certainly', 'co', 'com',\n",
    "            'come', 'comes', 'contain', 'containing', 'contains',\n",
    "            'could', \"couldn't\", 'd', 'date', 'did', \"didn't\", 'different',\n",
    "            'do', 'does', \"doesn't\", 'doing', 'done', \"don't\", 'down',\n",
    "            'downwards', 'due', 'during', 'e', 'each', 'ed', 'edu',\n",
    "            'effect', 'eg', 'eight', 'eighty', 'either', 'else',\n",
    "            'elsewhere', 'end', 'ending', 'enough', 'especially',\n",
    "            'et', 'et-al', 'etc', 'even', 'ever', 'every', 'everybody',\n",
    "            'everyone', 'everything', 'everywhere', 'ex', 'except', 'f',\n",
    "            'far', 'few', 'ff', 'fifth', 'first', 'five', 'fix',\n",
    "            'followed', 'following', 'follows', 'for', 'former',\n",
    "            'formerly', 'forth', 'found', 'four', 'from', 'further',\n",
    "            'furthermore', 'g', 'gave', 'get', 'gets', 'getting', 'give',\n",
    "            'given', 'gives', 'giving', 'go', 'goes', 'gone', 'got',\n",
    "            'gotten', 'h', 'had', 'happens', 'hardly', 'has', \"hasn't\",\n",
    "            'have', \"haven't\", 'having', 'he', 'hed', 'hence', 'her',\n",
    "            'here', 'hereafter', 'hereby', 'herein', 'heres', 'hereupon',\n",
    "            'hers', 'herself', 'hes', 'hi', 'hid', 'him', 'himself',\n",
    "            'his', 'hither', 'home', 'how', 'howbeit', 'however',\n",
    "            'hundred', 'i', 'id', 'ie', 'if', \"i'll\", 'im', 'immediate',\n",
    "            'immediately', 'importance', 'important', 'in', 'inc',\n",
    "            'indeed', 'index', 'information', 'instead', 'into',\n",
    "            'invention', 'inward', 'is', \"isn't\", 'it', 'itd', \"it'll\",\n",
    "            'its', 'itself', \"i've\", 'j', 'just', 'k', 'keep', 'keeps',\n",
    "            'kept', 'keys', 'kg', 'km', 'know', 'known', 'knows', 'l',\n",
    "            'largely', 'last', 'lately', 'later', 'latter', 'latterly',\n",
    "            'least', 'less', 'lest', 'let', 'lets', 'like', 'liked',\n",
    "            'likely', 'line', 'little', \"'ll\", 'look', 'looking', 'looks',\n",
    "            'ltd', 'm', 'made', 'mainly', 'make', 'makes', 'many', 'may',\n",
    "            'maybe', 'me', 'mean', 'means', 'meantime', 'meanwhile',\n",
    "            'merely', 'mg', 'might', 'million', 'miss', 'ml', 'more',\n",
    "            'moreover', 'most', 'mostly', 'mr', 'mrs', 'much', 'mug',\n",
    "            'must', 'my', 'myself', 'n', 'na', 'name', 'namely', 'nay',\n",
    "            'nd', 'near', 'nearly', 'necessarily', 'necessary', 'need',\n",
    "            'needs', 'neither', 'never', 'nevertheless', 'new', 'next',\n",
    "            'nine', 'ninety', 'no', 'nobody', 'non', 'none',\n",
    "            'nonetheless', 'noone', 'nor', 'normally', 'nos', 'not',\n",
    "            'noted', 'nothing', 'now', 'nowhere', 'o', 'obtain',\n",
    "            'obtained', 'obviously', 'of', 'off', 'often', 'oh', 'ok',\n",
    "            'okay', 'old', 'omitted', 'on', 'once', 'one', 'ones', 'only',\n",
    "            'onto', 'or', 'ord', 'other', 'others', 'otherwise', 'ought',\n",
    "            'our', 'ours', 'ourselves', 'out', 'outside', 'over',\n",
    "            'overall', 'owing', 'own', 'p', 'page', 'pages', 'part',\n",
    "            'particular', 'particularly', 'past', 'per', 'perhaps',\n",
    "            'placed', 'please', 'plus', 'poorly', 'possible', 'possibly',\n",
    "            'potentially', 'pp', 'predominantly', 'present', 'previously',\n",
    "            'primarily', 'probably', 'promptly', 'proud', 'provides',\n",
    "            'put', 'q', 'que', 'quickly', 'quite', 'qv', 'r', 'ran',\n",
    "            'rather', 'rd', 're', 'readily', 'really', 'recent',\n",
    "            'recently', 'ref', 'refs', 'regarding', 'regardless',\n",
    "            'regards', 'related', 'relatively', 'research',\n",
    "            'respectively', 'resulted', 'resulting', 'results', 'right',\n",
    "            'run', 's', 'said', 'same', 'saw', 'say', 'saying', 'says',\n",
    "            'sec', 'section', 'see', 'seeing', 'seem', 'seemed',\n",
    "            'seeming', 'seems', 'seen', 'self', 'selves', 'sent', 'seven',\n",
    "            'several', 'shall', 'she', 'shed', \"she'll\", 'shes', 'should',\n",
    "            \"shouldn't\", 'show', 'showed', 'shown', 'showns', 'shows',\n",
    "            'significant', 'significantly', 'similar', 'similarly',\n",
    "            'since', 'six', 'slightly', 'so', 'some', 'somebody',\n",
    "            'somehow', 'someone', 'somethan', 'something', 'sometime',\n",
    "            'sometimes', 'somewhat', 'somewhere', 'soon', 'sorry',\n",
    "            'specifically', 'specified', 'specify', 'specifying',\n",
    "            'state', 'states', 'still', 'stop', 'strongly', 'sub',\n",
    "            'substantially', 'successfully', 'such', 'sufficiently',\n",
    "            'suggest', 'sup', 'sure', 't', 'take', 'taken', 'taking',\n",
    "            'tell', 'tends', 'th', 'than', 'thank', 'thanks', 'thanx',\n",
    "            'that', \"that'll\", 'thats', \"that've\", 'the', 'their',\n",
    "            'theirs', 'them', 'themselves', 'then', 'thence', 'there',\n",
    "            'thereafter', 'thereby', 'thered', 'therefore', 'therein',\n",
    "            \"there'll\", 'thereof', 'therere', 'theres', 'thereto',\n",
    "            'thereupon', \"there've\", 'these', 'they', 'theyd', \"they'll\",\n",
    "            'theyre', \"they've\", 'think', 'this', 'those', 'thou',\n",
    "            'though', 'thoughh', 'thousand', 'throug', 'through',\n",
    "            'throughout', 'thru', 'thus', 'til', 'tip', 'to', 'together',\n",
    "            'too', 'took', 'toward', 'towards', 'tried', 'tries', 'truly',\n",
    "            'try', 'trying', 'ts', 'twice', 'two', 'u', 'un', 'under',\n",
    "            'unfortunately', 'unless', 'unlike', 'unlikely', 'until',\n",
    "            'unto', 'up', 'upon', 'ups', 'us', 'use', 'used', 'useful',\n",
    "            'usefully', 'usefulness', 'uses', 'using', 'usually', 'v',\n",
    "            'value', 'various', \"'ve\", 'very', 'via', 'viz', 'vol',\n",
    "            'vols', 'vs', 'w', 'want', 'wants', 'was', \"wasn't\", 'way',\n",
    "            'we', 'wed', 'welcome', \"we'll\", 'went', 'were', \"weren't\",\n",
    "            \"we've\", 'what', 'whatever', \"what'll\", 'whats', 'when',\n",
    "            'whence', 'whenever', 'where', 'whereafter', 'whereas',\n",
    "            'whereby', 'wherein', 'wheres', 'whereupon', 'wherever',\n",
    "            'whether', 'which', 'while', 'whim', 'whither', 'who', 'whod',\n",
    "            'whoever', 'whole', \"who'll\", 'whom', 'whomever', 'whos',\n",
    "            'whose', 'why', 'widely', 'willing', 'wish', 'with', 'within',\n",
    "            'without', \"won't\", 'words', 'world', 'would', \"wouldn't\",\n",
    "            'www', 'x', 'y', 'yes', 'yet', 'you', 'youd', \"you'll\",\n",
    "            'your', 'youre', 'yours', 'yourself', 'yourselves', \"you've\",\n",
    "            'z', 'zero',\n",
    "            #punctuation marks:\n",
    "            '`', \"'\", '(', ')', ',', '_', ';', ':', '~', '&', '-', '--',\n",
    "            '$', '^', '*', #maybe more\n",
    "            #added due to word tokenizer:\n",
    "            \"'s\", \"'ll\", \"'t\", \"'ve\", \"'m\",\n",
    "            'doesn', 'don', 'hasn', 'haven', 'isn', 'wasn', 'won', 'weren',\n",
    "            'wouldn', 'didn', 'shouldn', 'couldn']"
   ]
  },
  {
   "cell_type": "code",
   "execution_count": null,
   "metadata": {
    "collapsed": true
   },
   "outputs": [],
   "source": []
  },
  {
   "cell_type": "code",
   "execution_count": 14,
   "metadata": {
    "collapsed": true
   },
   "outputs": [],
   "source": [
    "def remove_stopwords(sentence_prep, stopwords):\n",
    "    sentence_wo_sw = []\n",
    "    for word in sentence_prep:\n",
    "        if word in stopwords:\n",
    "            pass\n",
    "        else : \n",
    "            sentence_wo_sw.append(word)\n",
    "    return sentence_wo_sw"
   ]
  },
  {
   "cell_type": "code",
   "execution_count": null,
   "metadata": {
    "collapsed": true
   },
   "outputs": [],
   "source": []
  },
  {
   "cell_type": "code",
   "execution_count": 15,
   "metadata": {
    "collapsed": true
   },
   "outputs": [],
   "source": [
    "stopwords = stop_words()\n",
    "swosw = remove_stopwords(sentence_prep, stopwords)"
   ]
  },
  {
   "cell_type": "code",
   "execution_count": null,
   "metadata": {
    "collapsed": true
   },
   "outputs": [],
   "source": []
  },
  {
   "cell_type": "code",
   "execution_count": 16,
   "metadata": {
    "collapsed": false
   },
   "outputs": [
    {
     "data": {
      "text/plain": [
       "[u'friend', u'swimming', u'pool']"
      ]
     },
     "execution_count": 16,
     "metadata": {},
     "output_type": "execute_result"
    }
   ],
   "source": [
    "swosw"
   ]
  },
  {
   "cell_type": "code",
   "execution_count": null,
   "metadata": {
    "collapsed": true
   },
   "outputs": [],
   "source": []
  }
 ],
 "metadata": {
  "kernelspec": {
   "display_name": "Python 2",
   "language": "python",
   "name": "python2"
  },
  "language_info": {
   "codemirror_mode": {
    "name": "ipython",
    "version": 2
   },
   "file_extension": ".py",
   "mimetype": "text/x-python",
   "name": "python",
   "nbconvert_exporter": "python",
   "pygments_lexer": "ipython2",
   "version": "2.7.11"
  }
 },
 "nbformat": 4,
 "nbformat_minor": 0
}
