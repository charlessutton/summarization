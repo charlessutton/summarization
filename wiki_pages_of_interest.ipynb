{
 "cells": [
  {
   "cell_type": "markdown",
   "metadata": {},
   "source": [
    "# Get list of the page of interest\n",
    "\n",
    "In this notebook we get the title list of all the wikipedia articles related to one of the 4 subject of TD QFS up to rank 1"
   ]
  },
  {
   "cell_type": "code",
   "execution_count": 15,
   "metadata": {
    "collapsed": false
   },
   "outputs": [],
   "source": [
    "from functions.data_acquisition import rank_to_title, counter"
   ]
  },
  {
   "cell_type": "code",
   "execution_count": 16,
   "metadata": {
    "collapsed": true
   },
   "outputs": [],
   "source": [
    "titles_of_interest = [\"Alzheimer's disease\",\"Asthma\",\"Cancer\", \"Obesity\"]\n"
   ]
  },
  {
   "cell_type": "code",
   "execution_count": 17,
   "metadata": {
    "collapsed": false
   },
   "outputs": [
    {
     "name": "stdout",
     "output_type": "stream",
     "text": [
      "disease :  Alzheimer's disease\n",
      "{0: 1, 1: 823}\n",
      "disease :  Asthma\n",
      "{0: 1, 1: 400}\n",
      "disease :  Cancer\n",
      "{0: 1, 1: 565}\n",
      "disease :  Obesity\n",
      "{0: 1, 1: 355}\n"
     ]
    }
   ],
   "source": [
    "all_titles = []\n",
    "for title in titles_of_interest:\n",
    "    rk_to_ttl = rank_to_title(title)\n",
    "    all_titles.extend(rk_to_ttl.keys())\n",
    "    print 'disease : ',title \n",
    "    print counter(rk_to_ttl)\n"
   ]
  },
  {
   "cell_type": "code",
   "execution_count": 18,
   "metadata": {
    "collapsed": false
   },
   "outputs": [],
   "source": [
    "length_before = len(all_titles)\n",
    "all_titles = list(set(all_titles))\n",
    "length_after =  len(all_titles)"
   ]
  },
  {
   "cell_type": "code",
   "execution_count": 19,
   "metadata": {
    "collapsed": false
   },
   "outputs": [
    {
     "data": {
      "text/plain": [
       "[u'Management of cancer',\n",
       " u'Oncogene',\n",
       " u'Non-steroidal anti-inflammatory drug',\n",
       " u'Status dystonicus',\n",
       " u'Caffeine',\n",
       " u'Thrifty gene hypothesis',\n",
       " u'Paranasal sinuses',\n",
       " u'Economic inequality',\n",
       " u'PRNP',\n",
       " u'Multiple myeloma',\n",
       " u'National Association to Advance Fat Acceptance',\n",
       " u'Reactive attachment disorder',\n",
       " u'International Statistical Classification of Diseases and Related Health Problems',\n",
       " u'Familial Mediterranean fever',\n",
       " u'Chronic bronchitis',\n",
       " u'Cognitive deficit',\n",
       " u'Anxiety disorder',\n",
       " u'Chronic renal failure',\n",
       " u'Transverse myelitis',\n",
       " u'Cancer stage',\n",
       " u'Toxic encephalopathy',\n",
       " u'Forest Pharmaceuticals',\n",
       " u'Cell growth',\n",
       " u'Patient UK',\n",
       " u'South Korea',\n",
       " u'Agoraphobia',\n",
       " u'Idiopathic pulmonary fibrosis',\n",
       " u'Dimebon',\n",
       " u'Nightmare',\n",
       " u'Diet and obesity',\n",
       " u'Bowel movement',\n",
       " u'Allele',\n",
       " u'Cavernous sinus thrombosis',\n",
       " u'Homologous recombination',\n",
       " u'Aldehydes',\n",
       " u'A Moment to Remember',\n",
       " u'Animal dander',\n",
       " u'Lower respiratory tract infection',\n",
       " u'Community-acquired pneumonia',\n",
       " u'Vitamin',\n",
       " u'Cholelithiasis',\n",
       " u'Cancer signs and symptoms',\n",
       " u'List of IARC Group 2B carcinogens',\n",
       " u'Gene dosage',\n",
       " u'Pus',\n",
       " u'PubMed Identifier',\n",
       " u'Sublingual immunotherapy',\n",
       " u'Intermittent explosive disorder',\n",
       " u'Away from Her',\n",
       " u'Endocrine gland neoplasm',\n",
       " u\"L\\xf6ffler's syndrome\",\n",
       " u'Cytokine',\n",
       " u'Beta2-adrenergic agonist',\n",
       " u'Fat cells',\n",
       " u'Single-breath diffusing capacity',\n",
       " u'Digestive system neoplasm',\n",
       " u'X-ray',\n",
       " u'Motivation',\n",
       " u'Viral encephalitis',\n",
       " u'Epinephrine',\n",
       " u'Congestive heart failure',\n",
       " u'Kleptomania',\n",
       " u'Hepatitis B vaccine',\n",
       " u'Acute exacerbation of chronic obstructive pulmonary disease',\n",
       " u'Alexander disease',\n",
       " u'Microscopic',\n",
       " u'Siddhartha Mukherjee',\n",
       " u'Nervous system',\n",
       " u'Stress (biological)',\n",
       " u'Calcitonin',\n",
       " u'Non-steroidal anti-inflammatory drugs',\n",
       " u'List of IARC Group 1 carcinogens',\n",
       " u'Diabetes',\n",
       " u'Breast cancer culture',\n",
       " u'Testosterone',\n",
       " u'Bovine spongiform encephalopathy',\n",
       " u'Robert Loggia',\n",
       " u'Tacrine',\n",
       " u'Bence Jones protein',\n",
       " u'Cardioselective beta-blockers',\n",
       " u\"Alzheimer's Association\",\n",
       " u'Obsessive\\u2013compulsive disorder',\n",
       " u'Wilhelm Fabry',\n",
       " u'Creutzfeldt\\u2013Jakob disease',\n",
       " u'Undeveloped countries',\n",
       " u'Alternative cancer treatment',\n",
       " u'Just-world hypothesis',\n",
       " u'Formoterol',\n",
       " u'Primary progressive aphasia',\n",
       " u'Tridymite',\n",
       " u'Nervous system neoplasm',\n",
       " u'Specific social phobia',\n",
       " u'Biological immortality',\n",
       " u'Globalization',\n",
       " u'Chemotherapy',\n",
       " u'Tracheitis',\n",
       " u'BIN1',\n",
       " u'Dyskinesia',\n",
       " u'Attention',\n",
       " u'Vocal cord paresis']"
      ]
     },
     "execution_count": 19,
     "metadata": {},
     "output_type": "execute_result"
    }
   ],
   "source": [
    "all_titles[:100]"
   ]
  },
  {
   "cell_type": "code",
   "execution_count": null,
   "metadata": {
    "collapsed": true
   },
   "outputs": [],
   "source": []
  }
 ],
 "metadata": {
  "kernelspec": {
   "display_name": "Python 2",
   "language": "python",
   "name": "python2"
  },
  "language_info": {
   "codemirror_mode": {
    "name": "ipython",
    "version": 2
   },
   "file_extension": ".py",
   "mimetype": "text/x-python",
   "name": "python",
   "nbconvert_exporter": "python",
   "pygments_lexer": "ipython2",
   "version": "2.7.11"
  }
 },
 "nbformat": 4,
 "nbformat_minor": 0
}
