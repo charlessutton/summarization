{
 "cells": [
  {
   "cell_type": "code",
   "execution_count": 1,
   "metadata": {
    "collapsed": false
   },
   "outputs": [],
   "source": [
    "import sys\n",
    "sys.path.append(\"/home/ubuntu/summarization_query_oriented/\")"
   ]
  },
  {
   "cell_type": "code",
   "execution_count": 2,
   "metadata": {
    "collapsed": false
   },
   "outputs": [],
   "source": [
    "import json\n",
    "import os\n",
    "from os import listdir\n",
    "from hard_coded import non_selected_keys, data_txt_dir, tdqfs_folder\n",
    "from hard_coded import tdqfs_themes\n",
    "from functions.training_functions import merge_articles_tdqfs\n",
    "output_folder_path = data_txt_dir\n",
    "non_selected_sections = non_selected_keys\n",
    "output_file_name = \"td_qfs\""
   ]
  },
  {
   "cell_type": "code",
   "execution_count": 3,
   "metadata": {
    "collapsed": false
   },
   "outputs": [
    {
     "data": {
      "text/plain": [
       "'/home/ubuntu/summarization_query_oriented/data/wikipedia/txt/td_qfs.txt'"
      ]
     },
     "execution_count": 3,
     "metadata": {},
     "output_type": "execute_result"
    }
   ],
   "source": [
    "output_folder_path+output_file_name+\".txt\""
   ]
  },
  {
   "cell_type": "code",
   "execution_count": 5,
   "metadata": {
    "collapsed": false
   },
   "outputs": [],
   "source": [
    "text = \"\"\n",
    "with open(output_folder_path+output_file_name+\".txt\", \"w\") as fout :\n",
    "\n",
    "    for theme in tdqfs_themes :\n",
    "        theme_folder = tdqfs_folder + theme + \"/\"\n",
    "        theme_doc_folder = theme_folder + theme + \"/\"\n",
    "        text += \" \" + merge_articles_tdqfs(theme_doc_folder)\n",
    "\n",
    "    fout.write(text.encode('utf-8','ignore'))\n",
    "fout.close()"
   ]
  },
  {
   "cell_type": "code",
   "execution_count": null,
   "metadata": {
    "collapsed": true
   },
   "outputs": [],
   "source": [
    "with open(output_folder_path+output_file_name+\".txt\",\"a\") as fout:\n",
    "    for file_name in files_name :\n",
    "        # check is the article is not \"blacklisted\" (usually articles that display contents)\n",
    "        with open(my_path+file_name) as data_file:\n",
    "            data = json.load(data_file)\n",
    "            \n",
    "            keys_to_write = []\n",
    "            \n",
    "            for key in data.keys():\n",
    "                if \"{\\\\\" in data[key] : \n",
    "                    pass\n",
    "                elif key.lower() in non_selected_sections : \n",
    "                    pass\n",
    "                else : \n",
    "                    keys_to_write.append(key)\n",
    "                \n",
    "            for key in keys_to_write:\n",
    "                text = data[key]                    \n",
    "                fout.write(text.encode('utf-8'))\n",
    "fout.close()"
   ]
  }
 ],
 "metadata": {
  "kernelspec": {
   "display_name": "Python 2",
   "language": "python",
   "name": "python2"
  },
  "language_info": {
   "codemirror_mode": {
    "name": "ipython",
    "version": 2
   },
   "file_extension": ".py",
   "mimetype": "text/x-python",
   "name": "python",
   "nbconvert_exporter": "python",
   "pygments_lexer": "ipython2",
   "version": "2.7.11"
  }
 },
 "nbformat": 4,
 "nbformat_minor": 0
}
