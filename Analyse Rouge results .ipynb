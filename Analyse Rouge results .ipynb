{
 "cells": [
  {
   "cell_type": "code",
   "execution_count": 15,
   "metadata": {
    "collapsed": true
   },
   "outputs": [],
   "source": [
    "from hard_coded import summary_system_super_dir\n",
    "import os\n",
    "import json\n",
    "import pandas as pd\n",
    "import numpy as np"
   ]
  },
  {
   "cell_type": "code",
   "execution_count": 31,
   "metadata": {
    "collapsed": false
   },
   "outputs": [
    {
     "name": "stdout",
     "output_type": "stream",
     "text": [
      "fc_model_batch_1k_valLoss_0.700654318929\n",
      "This file is currently running or doesn't contain any results\n",
      "first_try\n",
      "This file is currently running or doesn't contain any results\n",
      "fc_model_batch_2k_valLoss_0.777108880877\n",
      "This file is currently running or doesn't contain any results\n"
     ]
    }
   ],
   "source": [
    "names = []\n",
    "rouge_2_recall = []\n",
    "rouge_SU = []\n",
    "for model_name in os.listdir(summary_system_super_dir):\n",
    "    try: \n",
    "        with open(summary_system_super_dir + model_name + \"/ROUGE_RESULTS.json\", 'r') as f:\n",
    "            results = json.load(f)\n",
    "        names.append(model_name)\n",
    "        rouge_2_recall.append(results[\"rouge_2_recall\"])\n",
    "        rouge_SU.append(results[\"rouge_su*_recall\"])\n",
    "    except :\n",
    "        print model_name\n",
    "        print \"This file is currently running or doesn't contain any results\"\n",
    "        \n"
   ]
  },
  {
   "cell_type": "code",
   "execution_count": 32,
   "metadata": {
    "collapsed": false
   },
   "outputs": [],
   "source": [
    "df = pd.DataFrame()"
   ]
  },
  {
   "cell_type": "code",
   "execution_count": 33,
   "metadata": {
    "collapsed": false
   },
   "outputs": [],
   "source": [
    "df[\"names\"] = names\n",
    "df[\"rouge_2\"] = rouge_2_recall\n",
    "df[\"rouge_SU*\"] = rouge_SU"
   ]
  },
  {
   "cell_type": "code",
   "execution_count": 34,
   "metadata": {
    "collapsed": false
   },
   "outputs": [
    {
     "data": {
      "text/html": [
       "<div>\n",
       "<table border=\"1\" class=\"dataframe\">\n",
       "  <thead>\n",
       "    <tr style=\"text-align: right;\">\n",
       "      <th></th>\n",
       "      <th>names</th>\n",
       "      <th>rouge_2</th>\n",
       "      <th>rouge_SU*</th>\n",
       "    </tr>\n",
       "  </thead>\n",
       "  <tbody>\n",
       "    <tr>\n",
       "      <th>0</th>\n",
       "      <td>fc_model_batch_21k_valLoss_0.693159856796</td>\n",
       "      <td>0.06582</td>\n",
       "      <td>0.04554</td>\n",
       "    </tr>\n",
       "    <tr>\n",
       "      <th>1</th>\n",
       "      <td>fc_model_batch_23k_valLoss_0.693153313398</td>\n",
       "      <td>0.06522</td>\n",
       "      <td>0.04516</td>\n",
       "    </tr>\n",
       "    <tr>\n",
       "      <th>2</th>\n",
       "      <td>fc_model_batch_11k_valLoss_0.693166429996</td>\n",
       "      <td>0.06564</td>\n",
       "      <td>0.04516</td>\n",
       "    </tr>\n",
       "    <tr>\n",
       "      <th>3</th>\n",
       "      <td>fc_model_batch_19k_valLoss_0.693156558871</td>\n",
       "      <td>0.06686</td>\n",
       "      <td>0.04657</td>\n",
       "    </tr>\n",
       "    <tr>\n",
       "      <th>4</th>\n",
       "      <td>fc_model_batch_13k_valLoss_0.693164590001</td>\n",
       "      <td>0.06592</td>\n",
       "      <td>0.04565</td>\n",
       "    </tr>\n",
       "    <tr>\n",
       "      <th>5</th>\n",
       "      <td>fc_model_batch_9k_valLoss_0.693174785376</td>\n",
       "      <td>0.06649</td>\n",
       "      <td>0.04576</td>\n",
       "    </tr>\n",
       "    <tr>\n",
       "      <th>6</th>\n",
       "      <td>fc_model_batch_14k_valLoss_0.69316691339</td>\n",
       "      <td>0.06642</td>\n",
       "      <td>0.04622</td>\n",
       "    </tr>\n",
       "    <tr>\n",
       "      <th>7</th>\n",
       "      <td>fc_model_batch_3k_valLoss_0.693234422803</td>\n",
       "      <td>0.06710</td>\n",
       "      <td>0.04561</td>\n",
       "    </tr>\n",
       "    <tr>\n",
       "      <th>8</th>\n",
       "      <td>fc_model_batch_4k_valLoss_0.693222591281</td>\n",
       "      <td>0.06752</td>\n",
       "      <td>0.04694</td>\n",
       "    </tr>\n",
       "    <tr>\n",
       "      <th>9</th>\n",
       "      <td>fc_model_batch_16k_valLoss_0.693159108758</td>\n",
       "      <td>0.06608</td>\n",
       "      <td>0.04579</td>\n",
       "    </tr>\n",
       "    <tr>\n",
       "      <th>10</th>\n",
       "      <td>fc_model_batch_7k_valLoss_0.693180772066</td>\n",
       "      <td>0.06691</td>\n",
       "      <td>0.04718</td>\n",
       "    </tr>\n",
       "    <tr>\n",
       "      <th>11</th>\n",
       "      <td>fc_model_batch_5k_valLoss_0.693198094964</td>\n",
       "      <td>0.06630</td>\n",
       "      <td>0.04594</td>\n",
       "    </tr>\n",
       "    <tr>\n",
       "      <th>12</th>\n",
       "      <td>fc_model_batch_1k_valLoss_0.693360117674</td>\n",
       "      <td>0.06728</td>\n",
       "      <td>0.04672</td>\n",
       "    </tr>\n",
       "    <tr>\n",
       "      <th>13</th>\n",
       "      <td>fc_model_batch_10k_valLoss_0.693169870973</td>\n",
       "      <td>0.06651</td>\n",
       "      <td>0.04584</td>\n",
       "    </tr>\n",
       "    <tr>\n",
       "      <th>14</th>\n",
       "      <td>fc_model_batch_6k_valLoss_0.693193566799</td>\n",
       "      <td>0.06734</td>\n",
       "      <td>0.04684</td>\n",
       "    </tr>\n",
       "    <tr>\n",
       "      <th>15</th>\n",
       "      <td>fc_model_batch_17k_valLoss_0.693158280849</td>\n",
       "      <td>0.06577</td>\n",
       "      <td>0.04542</td>\n",
       "    </tr>\n",
       "    <tr>\n",
       "      <th>16</th>\n",
       "      <td>fc_model_batch_12k_valLoss_0.693163775802</td>\n",
       "      <td>0.06695</td>\n",
       "      <td>0.04677</td>\n",
       "    </tr>\n",
       "    <tr>\n",
       "      <th>17</th>\n",
       "      <td>fc_model_batch_8k_valLoss_0.693178550601</td>\n",
       "      <td>0.06660</td>\n",
       "      <td>0.04573</td>\n",
       "    </tr>\n",
       "    <tr>\n",
       "      <th>18</th>\n",
       "      <td>fc_model_batch_15k_valLoss_0.693160892725</td>\n",
       "      <td>0.06516</td>\n",
       "      <td>0.04483</td>\n",
       "    </tr>\n",
       "    <tr>\n",
       "      <th>19</th>\n",
       "      <td>fc_model_batch_20k_valLoss_0.693155971766</td>\n",
       "      <td>0.06644</td>\n",
       "      <td>0.04538</td>\n",
       "    </tr>\n",
       "    <tr>\n",
       "      <th>20</th>\n",
       "      <td>fc_model_batch_1k_valLoss_0.812570137382</td>\n",
       "      <td>0.06621</td>\n",
       "      <td>0.04675</td>\n",
       "    </tr>\n",
       "    <tr>\n",
       "      <th>21</th>\n",
       "      <td>fc_model_batch_18k_valLoss_0.693157699704</td>\n",
       "      <td>0.06627</td>\n",
       "      <td>0.04659</td>\n",
       "    </tr>\n",
       "    <tr>\n",
       "      <th>22</th>\n",
       "      <td>fc_model_batch_2k_valLoss_0.693270125389</td>\n",
       "      <td>0.06828</td>\n",
       "      <td>0.04714</td>\n",
       "    </tr>\n",
       "    <tr>\n",
       "      <th>23</th>\n",
       "      <td>fc_model_batch_22k_valLoss_0.693151597977</td>\n",
       "      <td>0.06531</td>\n",
       "      <td>0.04531</td>\n",
       "    </tr>\n",
       "  </tbody>\n",
       "</table>\n",
       "</div>"
      ],
      "text/plain": [
       "                                        names  rouge_2  rouge_SU*\n",
       "0   fc_model_batch_21k_valLoss_0.693159856796  0.06582    0.04554\n",
       "1   fc_model_batch_23k_valLoss_0.693153313398  0.06522    0.04516\n",
       "2   fc_model_batch_11k_valLoss_0.693166429996  0.06564    0.04516\n",
       "3   fc_model_batch_19k_valLoss_0.693156558871  0.06686    0.04657\n",
       "4   fc_model_batch_13k_valLoss_0.693164590001  0.06592    0.04565\n",
       "5    fc_model_batch_9k_valLoss_0.693174785376  0.06649    0.04576\n",
       "6    fc_model_batch_14k_valLoss_0.69316691339  0.06642    0.04622\n",
       "7    fc_model_batch_3k_valLoss_0.693234422803  0.06710    0.04561\n",
       "8    fc_model_batch_4k_valLoss_0.693222591281  0.06752    0.04694\n",
       "9   fc_model_batch_16k_valLoss_0.693159108758  0.06608    0.04579\n",
       "10   fc_model_batch_7k_valLoss_0.693180772066  0.06691    0.04718\n",
       "11   fc_model_batch_5k_valLoss_0.693198094964  0.06630    0.04594\n",
       "12   fc_model_batch_1k_valLoss_0.693360117674  0.06728    0.04672\n",
       "13  fc_model_batch_10k_valLoss_0.693169870973  0.06651    0.04584\n",
       "14   fc_model_batch_6k_valLoss_0.693193566799  0.06734    0.04684\n",
       "15  fc_model_batch_17k_valLoss_0.693158280849  0.06577    0.04542\n",
       "16  fc_model_batch_12k_valLoss_0.693163775802  0.06695    0.04677\n",
       "17   fc_model_batch_8k_valLoss_0.693178550601  0.06660    0.04573\n",
       "18  fc_model_batch_15k_valLoss_0.693160892725  0.06516    0.04483\n",
       "19  fc_model_batch_20k_valLoss_0.693155971766  0.06644    0.04538\n",
       "20   fc_model_batch_1k_valLoss_0.812570137382  0.06621    0.04675\n",
       "21  fc_model_batch_18k_valLoss_0.693157699704  0.06627    0.04659\n",
       "22   fc_model_batch_2k_valLoss_0.693270125389  0.06828    0.04714\n",
       "23  fc_model_batch_22k_valLoss_0.693151597977  0.06531    0.04531"
      ]
     },
     "execution_count": 34,
     "metadata": {},
     "output_type": "execute_result"
    }
   ],
   "source": [
    "df"
   ]
  },
  {
   "cell_type": "code",
   "execution_count": 35,
   "metadata": {
    "collapsed": false
   },
   "outputs": [
    {
     "data": {
      "text/plain": [
       "rouge_2\n",
       "18    fc_model_batch_15k_valLoss_0.693160892725\n",
       "1     fc_model_batch_23k_valLoss_0.693153313398\n",
       "23    fc_model_batch_22k_valLoss_0.693151597977\n",
       "2     fc_model_batch_11k_valLoss_0.693166429996\n",
       "15    fc_model_batch_17k_valLoss_0.693158280849\n",
       "0     fc_model_batch_21k_valLoss_0.693159856796\n",
       "4     fc_model_batch_13k_valLoss_0.693164590001\n",
       "9     fc_model_batch_16k_valLoss_0.693159108758\n",
       "20     fc_model_batch_1k_valLoss_0.812570137382\n",
       "21    fc_model_batch_18k_valLoss_0.693157699704\n",
       "11     fc_model_batch_5k_valLoss_0.693198094964\n",
       "6      fc_model_batch_14k_valLoss_0.69316691339\n",
       "19    fc_model_batch_20k_valLoss_0.693155971766\n",
       "5      fc_model_batch_9k_valLoss_0.693174785376\n",
       "13    fc_model_batch_10k_valLoss_0.693169870973\n",
       "17     fc_model_batch_8k_valLoss_0.693178550601\n",
       "3     fc_model_batch_19k_valLoss_0.693156558871\n",
       "10     fc_model_batch_7k_valLoss_0.693180772066\n",
       "16    fc_model_batch_12k_valLoss_0.693163775802\n",
       "7      fc_model_batch_3k_valLoss_0.693234422803\n",
       "12     fc_model_batch_1k_valLoss_0.693360117674\n",
       "14     fc_model_batch_6k_valLoss_0.693193566799\n",
       "8      fc_model_batch_4k_valLoss_0.693222591281\n",
       "22     fc_model_batch_2k_valLoss_0.693270125389\n",
       "Name: names, dtype: object"
      ]
     },
     "execution_count": 35,
     "metadata": {},
     "output_type": "execute_result"
    }
   ],
   "source": [
    "df[\"names\"][df[\"rouge_2\"].argsort()]"
   ]
  }
 ],
 "metadata": {
  "kernelspec": {
   "display_name": "Python 2",
   "language": "python",
   "name": "python2"
  },
  "language_info": {
   "codemirror_mode": {
    "name": "ipython",
    "version": 2
   },
   "file_extension": ".py",
   "mimetype": "text/x-python",
   "name": "python",
   "nbconvert_exporter": "python",
   "pygments_lexer": "ipython2",
   "version": "2.7.11"
  }
 },
 "nbformat": 4,
 "nbformat_minor": 0
}
