{
 "cells": [
  {
   "cell_type": "code",
   "execution_count": 1,
   "metadata": {
    "collapsed": false
   },
   "outputs": [
    {
     "name": "stdout",
     "output_type": "stream",
     "text": [
      "('word_indices', <type 'dict'>, 'length:', 83161)\n",
      "('indices_words', <type 'dict'>, 'length', 83161)\n"
     ]
    },
    {
     "name": "stderr",
     "output_type": "stream",
     "text": [
      "Using Theano backend.\n"
     ]
    }
   ],
   "source": [
    "from keras.models import Sequential\n",
    "from keras.layers.core import Dense, Activation, Dropout\n",
    "from keras.layers.recurrent import LSTM\n",
    "from keras.utils.data_utils import get_file\n",
    "\n",
    "import numpy as np\n",
    "import random\n",
    "import sys\n",
    "import os    \n",
    "os.environ['THEANO_FLAGS'] = \"device=gpu, floatX=float32\"\n",
    "import gensim\n",
    "from functions.words_chars import vocabulary_from_json_corpus, doc2bow\n",
    "\n",
    "json_corpus_path = \"/home/ubuntu/summarization_query_oriented/data/wikipedia/json/td_qfs_rank_1/\"\n",
    "# Import \n",
    "import gensim\n",
    "import keras\n",
    "from keras.layers import Dense, Activation, Dropout\n",
    "from keras.models import Sequential, load_model\n",
    "from keras.optimizers import Adam\n",
    "import numpy as np\n",
    "import matplotlib.pyplot as plt\n",
    "#%matplotlib inline\n",
    "import pyrouge\n",
    "from pyrouge import Rouge155\n",
    "\n",
    "from hard_coded import data_json_dir, data_txt_dir, lang_model_dir, model_dir, nn_summarizers_dir, summary_system_super_dir, tdqfs_folder\n",
    "from hard_coded import non_selected_keys,tdqfs_themes\n",
    "from functions.training_functions import create_triplets_lstm\n",
    "from functions.training_functions import *\n",
    "stopwords = stop_words()\n",
    "\n",
    "# paths to folder \n",
    "data_json = data_json_dir\n",
    "data_txt = data_txt_dir\n",
    "lang_model_folder = lang_model_dir\n",
    "nn_summarizers_folder = nn_summarizers_dir\n",
    "summary_system_super_folder = summary_system_super_dir\n",
    "themes = tdqfs_themes\n",
    "\n",
    "#title_file = \"/home/ubuntu/summarization_query_oriented/data/DUC/duc2005_topics.sgml\"\n",
    "#titles_folder = \"/home/ubuntu/summarization_query_oriented/data/DUC/duc2005_docs/\"\n",
    "\n",
    "# training parameters\n",
    "patience_limit = 25\n",
    "\n",
    "## loading a lstm (to be a shifted LSTM next ...)\n",
    "\n",
    "# building vocabulary of the corpus\n",
    "words = vocabulary_from_json_corpus(json_corpus_path)\n",
    "word_indices = dict((c, i) for i, c in enumerate(words))\n",
    "indices_word = dict((i, c) for i, c in enumerate(words))\n",
    "print(\"word_indices\", type(word_indices), \"length:\",len(word_indices))\n",
    "print(\"indices_words\", type(indices_word), \"length\", len(indices_word))"
   ]
  },
  {
   "cell_type": "code",
   "execution_count": 10,
   "metadata": {
    "collapsed": false
   },
   "outputs": [],
   "source": []
  },
  {
   "cell_type": "code",
   "execution_count": 11,
   "metadata": {
    "collapsed": false
   },
   "outputs": [
    {
     "data": {
      "text/plain": [
       "83161"
      ]
     },
     "execution_count": 11,
     "metadata": {},
     "output_type": "execute_result"
    }
   ],
   "source": []
  }
 ],
 "metadata": {
  "kernelspec": {
   "display_name": "Python 2",
   "language": "python",
   "name": "python2"
  },
  "language_info": {
   "codemirror_mode": {
    "name": "ipython",
    "version": 2
   },
   "file_extension": ".py",
   "mimetype": "text/x-python",
   "name": "python",
   "nbconvert_exporter": "python",
   "pygments_lexer": "ipython2",
   "version": "2.7.11"
  }
 },
 "nbformat": 4,
 "nbformat_minor": 0
}
