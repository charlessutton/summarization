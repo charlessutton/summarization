{
 "cells": [
  {
   "cell_type": "code",
   "execution_count": 3,
   "metadata": {
    "collapsed": false
   },
   "outputs": [],
   "source": [
    "# -*- coding: utf-8 -*-\n",
    "\"\"\"\n",
    "Created on Thu Jul 28 19:02:38 2016\n",
    "\n",
    "@author: Code\n",
    "\"\"\"\n",
    "import json\n",
    "import os\n",
    "from os import listdir\n",
    "from hard_coded import non_selected_keys, data_json_dir, data_txt_dir\n",
    "my_path = data_json_dir\n",
    "os.chdir(my_path) # here you put the path you want to be\n",
    "files_name = listdir(my_path)  #gives a list of the names of the files in the directory\n",
    "#print(files_name)\n",
    "output_folder_path = data_txt_dir\n",
    "non_selected_sections = non_selected_keys\n",
    "\n",
    "output_file_name = \"td_qfs_rank_1_all\"\n",
    "\n",
    "with open(output_folder_path+output_file_name+\".txt\",\"a\") as fout:\n",
    "    for file_name in files_name :\n",
    "        # check is the article is not \"blacklisted\" (usually articles that display contents)\n",
    "        with open(my_path+file_name) as data_file:\n",
    "            data = json.load(data_file)\n",
    "            \n",
    "            keys_to_write = []\n",
    "            \n",
    "            for key in data.keys():\n",
    "                if \"{\\\\\" in data[key] : \n",
    "                    pass\n",
    "                elif key.lower() in non_selected_sections : \n",
    "                    pass\n",
    "                else : \n",
    "                    keys_to_write.append(key)\n",
    "                \n",
    "            for key in keys_to_write:\n",
    "                text = data[key]                    \n",
    "                fout.write(text.encode('utf-8'))\n",
    "fout.close()"
   ]
  }
 ],
 "metadata": {
  "kernelspec": {
   "display_name": "Python 2",
   "language": "python",
   "name": "python2"
  },
  "language_info": {
   "codemirror_mode": {
    "name": "ipython",
    "version": 2
   },
   "file_extension": ".py",
   "mimetype": "text/x-python",
   "name": "python",
   "nbconvert_exporter": "python",
   "pygments_lexer": "ipython2",
   "version": "2.7.11"
  }
 },
 "nbformat": 4,
 "nbformat_minor": 0
}
