{
 "cells": [
  {
   "cell_type": "code",
   "execution_count": 1,
   "metadata": {
    "collapsed": false
   },
   "outputs": [
    {
     "name": "stderr",
     "output_type": "stream",
     "text": [
      "Using Theano backend.\n"
     ]
    }
   ],
   "source": [
    "from keras.models import Sequential\n",
    "from keras.layers.core import Dense, Activation, Dropout\n",
    "from keras.layers.recurrent import LSTM\n",
    "from functions.words_chars import vocabulary_from_json_corpus"
   ]
  },
  {
   "cell_type": "code",
   "execution_count": 7,
   "metadata": {
    "collapsed": false
   },
   "outputs": [
    {
     "name": "stdout",
     "output_type": "stream",
     "text": [
      "('word_indices', <type 'dict'>, 'length:', 83161)\n",
      "('indices_words', <type 'dict'>, 'length', 83161)\n"
     ]
    }
   ],
   "source": [
    "\n",
    "json_corpus_path = \"/home/ubuntu/summarization_query_oriented/data/wikipedia/json/td_qfs_rank_1/\"\n",
    "# building vocabulary of the corpus\n",
    "words = vocabulary_from_json_corpus(json_corpus_path)\n",
    "word_indices = dict((c, i) for i, c in enumerate(words))\n",
    "indices_word = dict((i, c) for i, c in enumerate(words))\n",
    "print(\"word_indices\", type(word_indices), \"length:\",len(word_indices))\n",
    "print(\"indices_words\", type(indices_word), \"length\", len(indices_word))"
   ]
  },
  {
   "cell_type": "code",
   "execution_count": 8,
   "metadata": {
    "collapsed": true
   },
   "outputs": [],
   "source": [
    "maxlen = 10"
   ]
  },
  {
   "cell_type": "code",
   "execution_count": 9,
   "metadata": {
    "collapsed": false
   },
   "outputs": [
    {
     "name": "stdout",
     "output_type": "stream",
     "text": [
      "Build model...\n",
      "Model built...\n"
     ]
    }
   ],
   "source": [
    "#defining model\n",
    "print('Build model...')\n",
    "model = Sequential()\n",
    "model.add(LSTM(400, return_sequences=True, input_shape=(maxlen, len(word_indices))))\n",
    "model.add(Dropout(0.6))\n",
    "model.add(LSTM(400, return_sequences=False))\n",
    "model.add(Dropout(0.6))\n",
    "model.add(Dense(len(words)))\n",
    "#model.add(Dense(1000))\n",
    "model.add(Activation('softmax'))\n",
    "model.compile(loss='categorical_crossentropy', optimizer='adam')\n",
    "print('Model built...')"
   ]
  },
  {
   "cell_type": "code",
   "execution_count": 10,
   "metadata": {
    "collapsed": true
   },
   "outputs": [],
   "source": [
    "model.load_weights('/home/ubuntu/summarization_query_oriented/nn_models/language_models/RNN/wider_30102016/tdqfs_lstm_wider_corpus_last.hdf5')"
   ]
  },
  {
   "cell_type": "code",
   "execution_count": 11,
   "metadata": {
    "collapsed": false
   },
   "outputs": [
    {
     "name": "stdout",
     "output_type": "stream",
     "text": [
      "()\n",
      "----- Example:\n",
      "('----- Generating with seed: \"', [u'although', u'they', u'have', u'common', u'name', u'diabetes', u'mellitus', u'and', u'diabetes', u'insipidus'], '\"')\n",
      "()\n",
      "although they have common name diabetes mellitus and diabetes insipidus the\n",
      "although they have common name diabetes mellitus and diabetes insipidus the most\n",
      "although they have common name diabetes mellitus and diabetes insipidus the most common\n",
      "although they have common name diabetes mellitus and diabetes insipidus the most common symptoms\n",
      "although they have common name diabetes mellitus and diabetes insipidus the most common symptoms of\n",
      "although they have common name diabetes mellitus and diabetes insipidus the most common symptoms of the\n",
      "although they have common name diabetes mellitus and diabetes insipidus the most common symptoms of the brain\n",
      "although they have common name diabetes mellitus and diabetes insipidus the most common symptoms of the brain and\n",
      "although they have common name diabetes mellitus and diabetes insipidus the most common symptoms of the brain and the\n",
      "although they have common name diabetes mellitus and diabetes insipidus the most common symptoms of the brain and the most\n",
      "although they have common name diabetes mellitus and diabetes insipidus the most common symptoms of the brain and the most common\n",
      "although they have common name diabetes mellitus and diabetes insipidus the most common symptoms of the brain and the most common the\n",
      "although they have common name diabetes mellitus and diabetes insipidus the most common symptoms of the brain and the most common the body\n",
      "although they have common name diabetes mellitus and diabetes insipidus the most common symptoms of the brain and the most common the body of\n",
      "although they have common name diabetes mellitus and diabetes insipidus the most common symptoms of the brain and the most common the body of the\n"
     ]
    }
   ],
   "source": [
    "import gensim\n",
    "import numpy as np\n",
    "\n",
    "sentence_str = \"Although they have a common name, diabetes mellitus and diabetes insipidus are two entirely separate conditions with unrelated mechanisms. \"\n",
    "sentence = gensim.utils.simple_preprocess(sentence_str)\n",
    "starting_idx = 0\n",
    "sentence = sentence[starting_idx :maxlen + starting_idx]\n",
    "\n",
    "#start_index = random.randint(0, len(list_words) - maxlen - 1)\n",
    "\n",
    "print()\n",
    "print('----- Example:')\n",
    "generated = ''\n",
    "generated += ' '.join(sentence)\n",
    "print('----- Generating with seed: \"' , sentence , '\"')\n",
    "print()\n",
    "\n",
    "for i in range(15):\n",
    "    x = np.zeros((1, maxlen, len(words)))\n",
    "    for t, word in enumerate(sentence):\n",
    "        x[0, t, word_indices[word]] = 1.\n",
    "\n",
    "    preds = model.predict(x, verbose=0)[0]\n",
    "\n",
    "    next_index = np.argmax(preds)\n",
    "    next_word = indices_word[next_index]\n",
    "    generated += \" \" + next_word\n",
    "    print generated\n",
    "    del sentence[0]\n",
    "    sentence.append(next_word)\n"
   ]
  },
  {
   "cell_type": "markdown",
   "metadata": {},
   "source": [
    "# Comparison"
   ]
  },
  {
   "cell_type": "code",
   "execution_count": null,
   "metadata": {
    "collapsed": true
   },
   "outputs": [],
   "source": []
  },
  {
   "cell_type": "code",
   "execution_count": null,
   "metadata": {
    "collapsed": true
   },
   "outputs": [],
   "source": []
  }
 ],
 "metadata": {
  "kernelspec": {
   "display_name": "Python 2",
   "language": "python",
   "name": "python2"
  },
  "language_info": {
   "codemirror_mode": {
    "name": "ipython",
    "version": 2
   },
   "file_extension": ".py",
   "mimetype": "text/x-python",
   "name": "python",
   "nbconvert_exporter": "python",
   "pygments_lexer": "ipython2",
   "version": "2.7.11"
  }
 },
 "nbformat": 4,
 "nbformat_minor": 0
}
