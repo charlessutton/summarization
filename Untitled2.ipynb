{
 "cells": [
  {
   "cell_type": "code",
   "execution_count": null,
   "metadata": {
    "collapsed": true
   },
   "outputs": [],
   "source": [
    "#### Imports\n",
    "import sys\n",
    "import numpy\n",
    "from keras.models import Sequential\n",
    "from keras.layers import Dense\n",
    "from keras.layers import Dropout\n",
    "from keras.layers import LSTM\n",
    "from keras.callbacks import ModelCheckpoint, EarlyStopping, ReduceLROnPlateau\n",
    "from keras.utils import np_utils\n",
    "from glove import Glove\n",
    "import gensim\n",
    "import numpy as np\n",
    "from functions.generators import bidirectional_batch_generator\n",
    "from functions.callbacks import LossHistory\n",
    "\n",
    "#### Parameters\n",
    "# paths\n",
    "word_embedder_folder = \"/home/ubuntu/summarization_query_oriented/nn_models/word_vectorization_models/glove/\"\n",
    "word_embedder = \"rank1_alltxt_size_400_epoch_30.glove\"\n",
    "\n",
    "# path to the text we use for training, take the corpus or sub corpus of the one you have trained glove \n",
    "txt_file = \"/home/ubuntu/summarization_query_oriented/data/wikipedia/txt/td_qfs_rank_1_all.txt\"\n",
    "\n",
    "# model folder\n",
    "model_folder = \"/home/ubuntu/summarization_query_oriented/nn_models/language_models/RNN/\"\n",
    "\n",
    "# size\n",
    "train_data_size = 500000\n",
    "\n",
    "seq_length = 10\n",
    "\n",
    "#### Implementation\n",
    "\n",
    "# glove model\n",
    "glove = Glove.load(word_embedder_folder+word_embedder)\n",
    "corpus = glove.dictionary\n",
    "corpus_size = len(corpus.keys())\n",
    "\n",
    "# dictionnaries\n",
    "word_to_int = corpus\n",
    "int_to_word = dict((corpus[key], key) for key in corpus.keys())\n",
    "\n",
    "# generator instance (this perform bidirectionnal batchs)\n",
    "train_gen = bidirectional_batch_generator(txt_file, train_data_size = train_data_size, glove, verbose=True, validation = False)\n",
    "val_gen  = bidirectional_batch_generator(txt_file, train_data_size = train_data_size, glove, verbose=True, validation = True)"
   ]
  },
  {
   "cell_type": "code",
   "execution_count": 1,
   "metadata": {
    "collapsed": false
   },
   "outputs": [
    {
     "ename": "SyntaxError",
     "evalue": "non-keyword arg after keyword arg (<ipython-input-1-f41ee678f214>, line 44)",
     "output_type": "error",
     "traceback": [
      "\u001b[1;36m  File \u001b[1;32m\"<ipython-input-1-f41ee678f214>\"\u001b[1;36m, line \u001b[1;32m44\u001b[0m\n\u001b[1;33m    train_gen = bidirectional_batch_generator(txt_file, train_data_size = train_data_size, glove, verbose=True, validation = False)\u001b[0m\n\u001b[1;31mSyntaxError\u001b[0m\u001b[1;31m:\u001b[0m non-keyword arg after keyword arg\n"
     ]
    }
   ],
   "source": [
    "# define the LSTM model\n",
    "model = Sequential()\n",
    "model.add(LSTM(400, input_shape=(X.shape[1], X.shape[2]), return_sequences=False, name=\"lstm_1\"))\n",
    "model.add(Dropout(0.5))\n",
    "model.add(Dense(y.shape[1], activation='softmax', name=\"dense_1\"))\n",
    "model.compile(loss='categorical_crossentropy', optimizer='sgd')\n",
    "\n",
    "# Implementing callbacks\n",
    "\n",
    "model_name = \"bidirectional_LSTM_glove_\"\n",
    "model_name = model_name +\"epoch_{epoch:02d}_valloss_{val_loss:.2f}.hdf5\"\n",
    "\n",
    "history = LossHistory()\n",
    "checkpointer = ModelCheckpoint(filepath=model_folder+model_name, verbose=1, save_best_only=True)\n",
    "earlystopper = EarlyStopping(monitor='val_loss', patience=5, verbose=1, mode='auto')\n",
    "reduce_lr = ReduceLROnPlateau(monitor='val_loss', factor=0.2,patience=3, min_lr=0.001)\n",
    "\n",
    "# training command\n",
    "model.fit_generator(gen, samples_per_epoch = 2*train_data_size , nb_epoch = 3, verbose = 1, callbacks = [], validation_data = val_gen, nb_val_samples = 10000, class_weight=None, max_q_size=10, nb_worker=4, pickle_safe=False)\n",
    "\n",
    "# saving the model"
   ]
  }
 ],
 "metadata": {
  "kernelspec": {
   "display_name": "Python 2",
   "language": "python",
   "name": "python2"
  },
  "language_info": {
   "codemirror_mode": {
    "name": "ipython",
    "version": 2
   },
   "file_extension": ".py",
   "mimetype": "text/x-python",
   "name": "python",
   "nbconvert_exporter": "python",
   "pygments_lexer": "ipython2",
   "version": "2.7.11"
  }
 },
 "nbformat": 4,
 "nbformat_minor": 0
}
