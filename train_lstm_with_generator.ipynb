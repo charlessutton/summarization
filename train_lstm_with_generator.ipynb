{
 "cells": [
  {
   "cell_type": "code",
   "execution_count": 1,
   "metadata": {
    "collapsed": false
   },
   "outputs": [
    {
     "name": "stderr",
     "output_type": "stream",
     "text": [
      "Using Theano backend.\n"
     ]
    }
   ],
   "source": [
    "from __future__ import print_function\n",
    "\n",
    "from keras.models import Sequential\n",
    "from keras.layers.core import Dense, Activation, Dropout\n",
    "from keras.layers.recurrent import LSTM\n",
    "from keras.utils.data_utils import get_file\n",
    "\n",
    "import numpy as np\n",
    "import random\n",
    "import sys\n",
    "import os\n",
    "\n",
    "import gensim"
   ]
  },
  {
   "cell_type": "code",
   "execution_count": null,
   "metadata": {
    "collapsed": true
   },
   "outputs": [],
   "source": [
    "path = \"/home/ubuntu/summarization_query_oriented/data/wikipedia/txt/td_qfs.txt\"\n",
    "\n",
    "try: \n",
    "    text = open(path).read().lower()\n",
    "except UnicodeDecodeError:\n",
    "    import codecs\n",
    "    text = codecs.open(path, encoding='utf-8').read().lower()\n",
    "\n",
    "print('corpus length:', len(text))\n",
    "\n",
    "word_list = gensim.utils.simple_preprocess(text)\n",
    "text = \" \".join(word for word in word_list)\n",
    "\n",
    "chars = set(text)\n",
    "words = set(text.split())\n",
    "\n",
    "print(\"chars:\",type(chars))\n",
    "print(\"words\",type(words))\n",
    "print(\"total number of unique words\", len(words))\n",
    "print(\"total number of unique chars\", len(chars))"
   ]
  },
  {
   "cell_type": "code",
   "execution_count": null,
   "metadata": {
    "collapsed": true
   },
   "outputs": [],
   "source": [
    "word_indices = dict((c, i) for i, c in enumerate(words))\n",
    "indices_word = dict((i, c) for i, c in enumerate(words))\n",
    "\n",
    "print(\"word_indices\", type(word_indices), \"length:\",len(word_indices) )\n",
    "\n",
    "print(\"indices_words\", type(indices_word), \"length\", len(indices_word))"
   ]
  },
  {
   "cell_type": "code",
   "execution_count": null,
   "metadata": {
    "collapsed": true
   },
   "outputs": [],
   "source": [
    "batch_size = 128\n",
    "maxlen = 10\n",
    "step = 3\n",
    "print(\"maxlen:\",maxlen,\"step:\", step)\n",
    "sentences = []\n",
    "next_words = []\n",
    "list_words = []\n",
    "sentences2=[]\n",
    "list_words=text.lower().split()\n",
    "\n",
    "for i in range(0,len(list_words)-maxlen, step):\n",
    "    sentences2 = ' '.join(list_words[i: i + maxlen])\n",
    "    sentences.append(sentences2)\n",
    "    next_words.append((list_words[i + maxlen]))\n",
    "    \n",
    "print('nb sequences(length of sentences):', len(sentences))\n",
    "print(\"length of next_word\",len(next_words))\n",
    "\n",
    "print('Vectorization...')\n",
    "X = np.zeros((len(sentences), maxlen, len(words)), dtype=np.bool)\n",
    "y = np.zeros((len(sentences), len(words)), dtype=np.bool)\n",
    "for i, sentence in enumerate(sentences):\n",
    "    for t, word in enumerate(sentence.split()):\n",
    "        #print(i,t,word)\n",
    "        X[i, t, word_indices[word]] = 1\n",
    "    y[i, word_indices[next_words[i]]] = 1"
   ]
  },
  {
   "cell_type": "code",
   "execution_count": null,
   "metadata": {
    "collapsed": true
   },
   "outputs": [],
   "source": [
    "    \n",
    "#build the model: 2 stacked LSTM\n",
    "print('Build model...')\n",
    "model = Sequential()\n",
    "model.add(LSTM(400, return_sequences=True, input_shape=(maxlen, len(words))))\n",
    "model.add(Dropout(0.6))\n",
    "model.add(LSTM(400, return_sequences=False))\n",
    "model.add(Dropout(0.6))\n",
    "model.add(Dense(len(words)))\n",
    "#model.add(Dense(1000))\n",
    "model.add(Activation('softmax'))\n",
    "\n",
    "model.compile(loss='categorical_crossentropy', optimizer='rmsprop')\n",
    "\n",
    "#resizing\n",
    "\n",
    "nb_batch = X.shape[0] / batch_size\n",
    "nb_batch_val = np.floor(0.2*nb_batch)\n",
    "nb_batch_train = nb_batch - nb_batch_val\n",
    "\n",
    "nb_sample_val = batch_size*nb_batch_val\n",
    "nb_sample_train = batch_size*nb_batch_train\n",
    "\n",
    "X_train = X[:nb_sample_train]\n",
    "y_train = y[:nb_sample_train]\n",
    "\n",
    "X_val = X[nb_sample_train:nb_sample_train+nb_sample_val]\n",
    "y_val = y[nb_sample_train:nb_sample_train+nb_sample_val]"
   ]
  },
  {
   "cell_type": "code",
   "execution_count": null,
   "metadata": {
    "collapsed": true
   },
   "outputs": [],
   "source": [
    "from keras.callbacks import ModelCheckpoint, EarlyStopping\n",
    "from functions.callbacks import LossHistory, ReduceLROnPlateau\n",
    "model_folder = \"/home/ubuntu/summarization_query_oriented/nn_models/language_models/RNN/\"\n",
    "model_name = \"tdqfs_lstm_\"\n",
    "model_name = model_name +\"epoch_{epoch:02d}_valloss_{val_loss:.2f}.hdf5\"\n",
    "example_name = \"tdqfs_lstm.examples\"\n",
    "history = LossHistory()\n",
    "checkpointer = ModelCheckpoint(filepath=model_folder+model_name, verbose=1, save_best_only=True)\n",
    "earlystopper = EarlyStopping(monitor='val_loss', patience=5, verbose=1, mode='auto')\n",
    "reduce_lr = ReduceLROnPlateau(monitor='val_loss', factor=0.2,patience=3, min_lr=0.001)\n",
    "\n",
    "if os.path.isfile('/home/ubuntu/summarization_query_oriented/nn_models/language_models/RNN/last_tdqfs_lstm'):\n",
    "    model.load_weights('/home/ubuntu/summarization_query_oriented/nn_models/language_models/RNN/last_tdqfs_lstm')\n",
    "\n",
    "def sample(a, temperature=1.0):\n",
    "    # helper function to sample an index from a probability array\n",
    "    a = np.log(a) / temperature\n",
    "    a = np.exp(a) / np.sum(np.exp(a))\n",
    "    return np.argmax(np.random.multinomial(1, a, 1))\n",
    "\n",
    "# train the model, output generated text after each iteration\n",
    "for iteration in range(1, 20):\n",
    "    print()\n",
    "    print('-' * 50)\n",
    "    print('Iteration', iteration)\n",
    "    with open(model_folder+example_name,\"a\") as fex :\n",
    "        fex.write('Iteration ' + str(iteration) + \"\\n\\n\")\n",
    "    fex.close()\n",
    "    model_name = \"tdqds_lstm_\"\n",
    "    model_name = model_name +\"epoch_{epoch:02d}_valloss_{val_loss:.2f}_iteration_\" + str(iteration) +\".hdf5\"\n",
    "\n",
    "    checkpointer = ModelCheckpoint(filepath=model_folder+model_name, verbose=1, save_best_only=True)\n",
    "    model.fit(X_train, y_train, validation_data=(X_val,y_val),callbacks=[history,checkpointer, earlystopper,reduce_lr], batch_size=batch_size, nb_epoch=10)\n",
    "    model.save_weights('/home/ubuntu/summarization_query_oriented/nn_models/language_models/RNN/last_tdqfs_lstm',overwrite=True)\n",
    "\n",
    "    for diversity in range(1,6):\n",
    "        start_index = random.randint(0, len(list_words) - maxlen - 1)\n",
    "\n",
    "        print()\n",
    "        print('----- Example:', diversity)\n",
    "        generated = ''\n",
    "        sentence = list_words[start_index: start_index + maxlen]\n",
    "        generated += ' '.join(sentence)\n",
    "        print('----- Generating with seed: \"' , sentence , '\"')\n",
    "        print()\n",
    "        sys.stdout.write(generated)\n",
    "        print()\n",
    "\n",
    "        for i in range(15):\n",
    "            x = np.zeros((1, maxlen, len(words)))\n",
    "            for t, word in enumerate(sentence):\n",
    "                x[0, t, word_indices[word]] = 1.\n",
    "\n",
    "            preds = model.predict(x, verbose=0)[0]\n",
    "\n",
    "            next_index = np.argmax(preds)\n",
    "            next_word = indices_word[next_index]\n",
    "            generated += \" \" + next_word\n",
    "            del sentence[0]\n",
    "            sentence.append(next_word)\n",
    "            sys.stdout.write(' ')\n",
    "            sys.stdout.write(next_word)\n",
    "            sys.stdout.flush()\n",
    "        with open(model_folder+example_name,\"a\") as fex :\n",
    "            fex.write('Example ' + str(diversity) + \" : \")\n",
    "            fex.write(generated + \"\\n\")\n",
    "        fex.close()\n",
    "        \n",
    "    with open(model_folder+example_name,\"a\") as fex :\n",
    "        fex.write(\"\\n\\n\")\n",
    "    fex.close()"
   ]
  }
 ],
 "metadata": {
  "kernelspec": {
   "display_name": "Python 2",
   "language": "python",
   "name": "python2"
  },
  "language_info": {
   "codemirror_mode": {
    "name": "ipython",
    "version": 2
   },
   "file_extension": ".py",
   "mimetype": "text/x-python",
   "name": "python",
   "nbconvert_exporter": "python",
   "pygments_lexer": "ipython2",
   "version": "2.7.11"
  }
 },
 "nbformat": 4,
 "nbformat_minor": 0
}
