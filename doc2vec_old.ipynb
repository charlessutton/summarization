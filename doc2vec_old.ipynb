{
 "cells": [
  {
   "cell_type": "markdown",
   "metadata": {},
   "source": [
    "## Getting Started"
   ]
  },
  {
   "cell_type": "code",
   "execution_count": 18,
   "metadata": {
    "collapsed": false
   },
   "outputs": [],
   "source": [
    "import gensim\n",
    "import os\n",
    "import collections\n",
    "import random\n",
    "from hard_coded import lang_model_dir "
   ]
  },
  {
   "cell_type": "code",
   "execution_count": 1,
   "metadata": {
    "collapsed": true
   },
   "outputs": [],
   "source": [
    "train_file = \"/home/ubuntu/summarization_query_oriented/data/wikipedia/txt/td_qfs_rank_1_all.txt\"\n"
   ]
  },
  {
   "cell_type": "markdown",
   "metadata": {},
   "source": [
    "## Preprocess Text for Doc2Vec"
   ]
  },
  {
   "cell_type": "code",
   "execution_count": 12,
   "metadata": {
    "collapsed": false
   },
   "outputs": [],
   "source": [
    "def read_corpus(fname, tokens_only=False):\n",
    "#    with open(fname, encoding=\"iso-8859-1\") as f:\n",
    "    stopwords = stop_words()\n",
    "    \n",
    "    with open(fname) as f:        \n",
    "        for i, line in enumerate(f):\n",
    "            if tokens_only:\n",
    "                prep = gensim.utils.simple_preprocess(line, deacc=True)\n",
    "                yield remove_stopwords(prep, stopwords)\n",
    "            else:\n",
    "                # For training data, add tags\n",
    "                prep = gensim.utils.simple_preprocess(line, deacc=True)\n",
    "                yield gensim.models.doc2vec.TaggedDocument(remove_stopwords(prep,stopwords), [i])"
   ]
  },
  {
   "cell_type": "code",
   "execution_count": 13,
   "metadata": {
    "collapsed": false
   },
   "outputs": [],
   "source": [
    "train_corpus = list(read_corpus(train_file))\n",
    "test_corpus = list(read_corpus(train_file, tokens_only=True))"
   ]
  },
  {
   "cell_type": "code",
   "execution_count": 14,
   "metadata": {
    "collapsed": false
   },
   "outputs": [
    {
     "data": {
      "text/plain": [
       "TaggedDocument(words=[u'bauxite', u'pneumoconiosis', u'shaver', u'disease', u'corundum', u'smelter', u'lung', u'bauxite', u'lung', u'bauxite', u'smelters', u'disease', u'progressive', u'form', u'pneumoconiosis', u'caused', u'exposure', u'bauxite', u'fumes', u'aluminium', u'silica', u'particulates'], tags=[0])"
      ]
     },
     "execution_count": 14,
     "metadata": {},
     "output_type": "execute_result"
    }
   ],
   "source": [
    "train_corpus[0]"
   ]
  },
  {
   "cell_type": "code",
   "execution_count": 6,
   "metadata": {
    "collapsed": false
   },
   "outputs": [
    {
     "name": "stdout",
     "output_type": "stream",
     "text": [
      "[u'bauxite', u'pneumoconiosis', u'also', u'known', u'as', u'shaver', u'disease', u'corundum', u'smelter', u'lung', u'bauxite', u'lung', u'or', u'bauxite', u'smelters', u'disease', u'is', u'progressive', u'form', u'of', u'pneumoconiosis', u'caused', u'by', u'exposure', u'to', u'bauxite', u'fumes', u'which', u'contain', u'aluminium', u'and', u'silica', u'particulates']\n"
     ]
    }
   ],
   "source": [
    "print test_corpus[0]"
   ]
  },
  {
   "cell_type": "code",
   "execution_count": 8,
   "metadata": {
    "collapsed": false
   },
   "outputs": [
    {
     "name": "stdout",
     "output_type": "stream",
     "text": [
      "62695\n"
     ]
    }
   ],
   "source": [
    "print len(train_corpus)"
   ]
  },
  {
   "cell_type": "markdown",
   "metadata": {},
   "source": [
    "## Training the model"
   ]
  },
  {
   "cell_type": "code",
   "execution_count": 27,
   "metadata": {
    "collapsed": false
   },
   "outputs": [],
   "source": [
    "dm = 0\n",
    "min_count = 5\n",
    "window = 10\n",
    "size = 400\n",
    "sample = 1e-4\n",
    "negative = 5\n",
    "workers = 4\n",
    "epoch = 100"
   ]
  },
  {
   "cell_type": "code",
   "execution_count": 28,
   "metadata": {
    "collapsed": false
   },
   "outputs": [],
   "source": [
    "model = gensim.models.doc2vec.Doc2Vec(dm=dm,min_count=min_count, window=window, size=size, sample=sample, negative=negative, workers=workers,iter = epoch)"
   ]
  },
  {
   "cell_type": "code",
   "execution_count": 29,
   "metadata": {
    "collapsed": true
   },
   "outputs": [],
   "source": [
    "model.build_vocab(train_corpus)"
   ]
  },
  {
   "cell_type": "markdown",
   "metadata": {},
   "source": [
    "### Training the model (may be long !)"
   ]
  },
  {
   "cell_type": "code",
   "execution_count": 30,
   "metadata": {
    "collapsed": false
   },
   "outputs": [
    {
     "name": "stdout",
     "output_type": "stream",
     "text": [
      "CPU times: user 29min 45s, sys: 27.2 s, total: 30min 12s\n",
      "Wall time: 11min 46s\n"
     ]
    },
    {
     "data": {
      "text/plain": [
       "164696722"
      ]
     },
     "execution_count": 30,
     "metadata": {},
     "output_type": "execute_result"
    }
   ],
   "source": [
    "%time model.train(train_corpus)"
   ]
  },
  {
   "cell_type": "code",
   "execution_count": 31,
   "metadata": {
    "collapsed": false
   },
   "outputs": [
    {
     "name": "stdout",
     "output_type": "stream",
     "text": [
      "model saved\n"
     ]
    }
   ],
   "source": [
    "\n",
    "model_name =\"dm_\"+str(dm)+\"_mc_\"+str(min_count)+\"_w_\"+str(window)+\"_size_\"+str(size)+\"_neg_\"+str(negative)+\"_ep_\"+str(epoch)+\"_wosw\"\n",
    "model.save(lang_model_dir+model_name+\".d2v\")\n",
    "print(\"model saved\")"
   ]
  },
  {
   "cell_type": "markdown",
   "metadata": {},
   "source": [
    "### Loading it"
   ]
  },
  {
   "cell_type": "code",
   "execution_count": 32,
   "metadata": {
    "collapsed": false
   },
   "outputs": [
    {
     "name": "stdout",
     "output_type": "stream",
     "text": [
      "model loaded\n"
     ]
    }
   ],
   "source": [
    "model_name =\"dm_\"+str(dm)+\"_mc_\"+str(min_count)+\"_w_\"+str(window)+\"_size_\"+str(size)+\"_neg_\"+str(negative)+\"_ep_\"+str(epoch)+\"_wosw\"\n",
    "model_d2v = model.load(lang_model_dir+model_name+\".d2v\")\n",
    "print(\"model loaded\")"
   ]
  },
  {
   "cell_type": "markdown",
   "metadata": {},
   "source": [
    "## Testing it !"
   ]
  },
  {
   "cell_type": "code",
   "execution_count": 33,
   "metadata": {
    "collapsed": false
   },
   "outputs": [
    {
     "data": {
      "text/plain": [
       "array([  1.47184506e-01,  -1.95598930e-01,  -3.19777653e-02,\n",
       "        -1.03911087e-01,   2.32490450e-01,  -6.91882819e-02,\n",
       "         6.19045757e-02,   1.15574608e-02,  -1.80576012e-01,\n",
       "         1.41080201e-01,  -1.44291282e-01,  -5.73484264e-02,\n",
       "        -5.07302806e-02,   7.89929181e-03,  -3.26590464e-02,\n",
       "         2.20667765e-01,   2.65102815e-02,   9.24123004e-02,\n",
       "         7.66479373e-02,  -3.17525044e-02,   2.60160148e-01,\n",
       "         8.81015807e-02,  -1.36549443e-01,   2.89000627e-02,\n",
       "         2.06925552e-02,  -1.86722070e-01,   1.09193765e-01,\n",
       "        -3.67489108e-03,   1.06802985e-01,  -1.51116684e-01,\n",
       "         8.86295512e-02,  -3.20413619e-01,   2.15845376e-01,\n",
       "        -1.21278584e-01,   9.86410212e-03,   2.29954138e-01,\n",
       "         2.41720065e-01,  -1.47043809e-01,  -3.24985199e-02,\n",
       "         3.38195153e-02,  -2.95624256e-01,   2.67844826e-01,\n",
       "         1.48904566e-02,  -9.95730702e-03,  -1.09819502e-01,\n",
       "        -1.51106283e-01,  -1.35333404e-01,   4.37500514e-02,\n",
       "         2.41985396e-01,   1.56248599e-01,  -1.26122730e-02,\n",
       "        -2.85820395e-01,   3.06857564e-02,  -9.47338417e-02,\n",
       "        -1.02103882e-01,  -3.64361331e-02,   1.31726518e-01,\n",
       "        -3.29547152e-02,   4.03594924e-03,   9.01760384e-02,\n",
       "         1.23522386e-01,  -4.53136712e-02,   1.36244625e-01,\n",
       "        -3.00469156e-02,   4.98552546e-02,   3.90407816e-02,\n",
       "        -1.13144042e-02,   2.01000329e-02,  -1.02735698e-01,\n",
       "        -7.26065040e-02,   1.23385996e-01,   5.76052479e-02,\n",
       "        -1.14510536e-01,  -2.65399516e-02,  -2.49172244e-02,\n",
       "         5.50936125e-02,   2.51022995e-01,  -9.11359042e-02,\n",
       "        -8.80890340e-02,   1.88695341e-02,  -1.19419515e-01,\n",
       "         2.49351468e-02,   5.62753230e-02,  -1.59481332e-01,\n",
       "        -2.76197810e-02,   4.40382585e-02,   1.39569432e-01,\n",
       "         3.27768296e-01,  -7.17675462e-02,  -8.47269595e-02,\n",
       "         1.28159627e-01,   1.28424510e-01,   8.23397189e-02,\n",
       "        -8.09058398e-02,   5.61012812e-02,   8.23407620e-03,\n",
       "         3.31952602e-01,   5.49498945e-02,  -2.67092049e-01,\n",
       "        -1.02750234e-01,  -9.71464813e-02,   2.38577023e-01,\n",
       "        -8.93332902e-03,   4.52594496e-02,   5.01525700e-02,\n",
       "         1.71425678e-02,   2.31010672e-02,  -1.58599596e-02,\n",
       "         1.64051145e-01,  -2.32161254e-01,  -1.18882149e-01,\n",
       "         1.52202696e-01,  -1.57908618e-01,  -1.84159189e-01,\n",
       "         2.23011062e-01,   7.94016495e-02,  -1.25135124e-01,\n",
       "        -1.70319956e-02,  -8.44122097e-02,   6.72670007e-02,\n",
       "        -7.90393203e-02,  -2.45999485e-01,   8.69518444e-02,\n",
       "        -6.60748854e-02,  -2.63168573e-01,   4.18012701e-02,\n",
       "         2.60518789e-02,  -1.86921790e-01,   2.39774719e-01,\n",
       "        -2.35149652e-01,   5.47053143e-02,  -3.25308889e-02,\n",
       "        -1.05592370e-01,  -2.94298381e-02,   1.03829838e-01,\n",
       "         4.69193906e-02,   1.58214048e-01,  -3.19070995e-01,\n",
       "        -2.77254116e-02,  -5.18095456e-02,   4.79170568e-02,\n",
       "         6.82934225e-02,   1.01800993e-01,  -3.23367342e-02,\n",
       "         7.58138066e-03,  -6.90852329e-02,   4.64003384e-02,\n",
       "         1.29890561e-01,   1.84276357e-01,  -1.89706944e-02,\n",
       "         3.18423599e-01,  -9.57176834e-02,  -2.17650771e-01,\n",
       "        -3.08903418e-02,  -1.04117662e-01,  -4.60108258e-02,\n",
       "        -8.06589276e-02,   1.89895689e-01,   2.81185191e-02,\n",
       "         2.64640450e-01,  -1.87503204e-01,   6.30118251e-02,\n",
       "        -1.89168513e-01,  -7.51735568e-02,   2.28025436e-01,\n",
       "         1.01423882e-01,   6.06631748e-02,  -1.02587648e-01,\n",
       "         7.99427405e-02,   1.79041505e-01,  -8.09919313e-02,\n",
       "         1.77871689e-01,  -1.47880912e-01,   1.46309406e-01,\n",
       "        -1.08450530e-02,   4.79046889e-02,   1.17583692e-01,\n",
       "        -1.70291141e-01,   3.83855845e-03,  -5.42064421e-02,\n",
       "         3.33746634e-02,   7.31865168e-02,  -6.95066676e-02,\n",
       "        -1.82292357e-01,  -4.24891114e-02,  -7.25773722e-02,\n",
       "         2.28199407e-01,  -2.48287972e-02,  -2.98416525e-01,\n",
       "         1.67824253e-01,  -3.91654819e-02,  -8.95029083e-02,\n",
       "        -3.02166849e-01,   2.75408119e-01,  -3.34638581e-02,\n",
       "        -1.35835871e-01,  -2.54669171e-02,  -2.86449473e-02,\n",
       "         1.48835108e-01,  -1.30360588e-01,   3.65136415e-02,\n",
       "        -2.30785534e-02,   9.28105935e-02,   2.91795522e-01,\n",
       "         7.75647685e-02,  -1.26099531e-02,   1.05872564e-01,\n",
       "         1.37201577e-01,  -2.01466143e-01,  -2.05035031e-01,\n",
       "         1.86365619e-01,  -2.67028064e-02,  -6.13725036e-02,\n",
       "         3.12783234e-02,   1.44589126e-01,   7.23930895e-02,\n",
       "        -1.63622526e-03,   6.90204203e-02,   1.81439549e-01,\n",
       "         4.56321463e-02,  -5.14660450e-03,   1.07922025e-01,\n",
       "        -1.88180842e-02,   6.32786378e-02,  -1.80210963e-01,\n",
       "         1.84981748e-01,   4.23381962e-02,  -4.95824553e-02,\n",
       "         1.55141085e-01,   1.31361961e-01,  -1.01040870e-01,\n",
       "        -2.05851585e-01,   1.30773569e-02,  -9.66976210e-02,\n",
       "         7.36890268e-03,  -2.38467127e-01,  -1.31051645e-01,\n",
       "        -3.72049287e-02,   1.54941633e-01,  -2.02462181e-01,\n",
       "         7.90290907e-02,  -8.79139975e-02,  -3.65626067e-01,\n",
       "         3.27020623e-02,   2.28498608e-01,   4.73402143e-02,\n",
       "         2.49949098e-02,   2.08259895e-01,  -1.50983363e-01,\n",
       "        -1.04141846e-01,   8.04010406e-02,  -8.52603465e-02,\n",
       "        -2.49020129e-01,  -1.24681257e-01,  -1.64133653e-01,\n",
       "        -1.67244136e-01,   4.62331735e-02,  -1.23390175e-01,\n",
       "        -3.99985239e-02,  -8.25940669e-02,  -2.13593105e-03,\n",
       "         1.78020131e-02,   9.05478299e-02,  -7.02067018e-02,\n",
       "         7.30955824e-02,   1.83052480e-01,   6.41938299e-02,\n",
       "         2.88300887e-02,  -8.70429650e-02,   1.48734778e-01,\n",
       "         2.35215917e-01,  -1.16416909e-01,  -5.75716794e-02,\n",
       "         1.58749744e-02,  -2.24747285e-02,  -9.66237392e-03,\n",
       "        -2.13518972e-03,   1.17197901e-01,  -3.52169007e-01,\n",
       "         2.79436350e-01,   1.41029526e-02,   1.13245975e-02,\n",
       "         9.09397379e-03,   2.54790395e-01,  -8.71610865e-02,\n",
       "        -5.50263114e-02,   1.71517521e-01,   1.09435432e-01,\n",
       "        -2.34310031e-01,  -2.08850801e-01,  -7.01028481e-02,\n",
       "        -2.04481333e-01,  -3.23738642e-02,   1.24837898e-01,\n",
       "         3.25762749e-01,  -1.75329179e-01,  -2.21891806e-01,\n",
       "         3.60904261e-02,  -2.65686661e-02,   9.39158052e-02,\n",
       "        -2.42700636e-01,   8.56923778e-03,  -1.83406681e-01,\n",
       "        -1.44530565e-01,   9.94774327e-02,   8.60184729e-02,\n",
       "        -1.45033017e-01,  -8.54500011e-02,   1.49727046e-01,\n",
       "        -1.27129868e-01,  -9.35807228e-02,   6.19782656e-02,\n",
       "         8.27396512e-02,  -5.96608520e-02,   2.07487345e-01,\n",
       "         9.27003026e-02,  -1.56467870e-01,   3.86114698e-03,\n",
       "        -1.63532853e-01,   9.36843306e-02,  -1.56136215e-01,\n",
       "        -1.15586899e-01,   1.03256904e-01,   2.30258405e-02,\n",
       "        -9.54856947e-02,  -1.82501785e-02,  -1.40578923e-04,\n",
       "         4.09207586e-03,  -6.48994045e-03,  -9.26210359e-03,\n",
       "        -5.30234650e-02,  -2.03245386e-01,   1.39515445e-01,\n",
       "        -1.92730993e-01,  -1.23333529e-01,  -1.71691939e-01,\n",
       "        -9.19147581e-02,  -1.78130165e-01,  -2.65168045e-02,\n",
       "        -2.86513921e-02,   3.48535031e-01,  -1.69877298e-02,\n",
       "         7.83726498e-02,  -9.27570388e-02,  -3.10251452e-02,\n",
       "        -1.21748097e-01,  -3.27532351e-01,  -1.46192595e-01,\n",
       "         5.02514094e-02,  -1.66224003e-01,   8.32736418e-02,\n",
       "         2.89242398e-02,   1.37370348e-01,  -3.97433378e-02,\n",
       "         6.44499287e-02,  -2.18292698e-01,   1.50228336e-01,\n",
       "         1.46038190e-01,   3.66441794e-02,  -6.65462837e-02,\n",
       "         1.48943305e-01,  -5.84804639e-02,  -1.60004720e-01,\n",
       "        -1.42499888e-02,  -4.42792140e-02,   1.32881641e-01,\n",
       "        -9.98027548e-02,  -8.43571126e-02,   9.59483627e-03,\n",
       "         3.42197828e-02,   1.15570202e-02,   1.55072615e-01,\n",
       "        -1.63724214e-01,   8.60565156e-02,   1.72027349e-01,\n",
       "        -8.36426690e-02,   4.90394235e-02,  -8.25657845e-02,\n",
       "        -1.67612210e-01,   5.36427014e-02,   1.38400674e-01,\n",
       "         4.69362326e-02,  -1.44228905e-01,   1.25961080e-01,\n",
       "        -5.86761124e-02,   1.27174959e-01,   8.82103294e-02,\n",
       "         1.51333943e-01,  -1.84688762e-01,   1.52147666e-01,\n",
       "         1.07565038e-01,  -7.18446299e-02,  -6.26421496e-02,\n",
       "        -2.62499034e-01,   2.32815117e-01,   7.28840902e-02,\n",
       "        -1.88541457e-01,  -1.22745685e-01,   2.19077110e-01,\n",
       "         5.97901903e-02], dtype=float32)"
      ]
     },
     "execution_count": 33,
     "metadata": {},
     "output_type": "execute_result"
    }
   ],
   "source": [
    "model_d2v.infer_vector(['only', 'you', 'can', 'prevent', 'forrest', 'fires'])"
   ]
  },
  {
   "cell_type": "code",
   "execution_count": 34,
   "metadata": {
    "collapsed": false
   },
   "outputs": [],
   "source": [
    "ranks = []\n",
    "second_ranks = []\n",
    "for doc_id in range(100):\n",
    "    inferred_vector = model.infer_vector(train_corpus[doc_id].words)\n",
    "    sims = model.docvecs.most_similar([inferred_vector], topn=len(model.docvecs))\n",
    "    rank = [docid for docid, sim in sims].index(doc_id)\n",
    "    ranks.append(rank)\n",
    "    \n",
    "    second_ranks.append(sims[1])"
   ]
  },
  {
   "cell_type": "code",
   "execution_count": 38,
   "metadata": {
    "collapsed": false
   },
   "outputs": [
    {
     "name": "stdout",
     "output_type": "stream",
     "text": [
      "Test Document (48): «great famine major food crisis strike europe century millions northern europe died extended number years marking clear earlier period growth prosperity centuries starting bad weather spring widespread crop failures lasted summer europe fully recover period marked extreme levels criminal activity disease mass death infanticide cannibalism consequences church european society future calamities follow century famines medieval britain medieval france england population people died famine»\n",
      "\n",
      "SIMILAR/DISSIMILAR DOCS PER MODEL Doc2Vec(dbow,d400,n5,hs,mc5,s0.0001,t4):\n",
      "\n",
      "MOST (6591, 0.3839375376701355): «great famine crisis strike europe late middle ages period witnessed heaviest loss population france reduced half medieval britain afflicted famines france suffered effects period europe devastated mid century black death deadly pandemics human history killed estimated people europe third european population time»\n",
      "\n",
      "MOST (67, 0.34114229679107666): «great famine lasted killed tenth czech lands population inhabitants radicalised countrysides leading peasant uprisings»\n",
      "\n",
      "MOST (72, 0.33012092113494873): «areas europe famines france famines century great famine ireland caused failure potato crop years dead refugees fleeing britain australia united»\n",
      "\n",
      "MEDIAN (25723, 0.07545740902423859): «endocrine organ bone controls phosphate metabolism releasing fibroblast growth factor fgf acts kidneys reduce phosphate reabsorption bone cells release hormone called osteocalcin contributes regulation blood sugar glucose fat deposition osteocalcin increases insulin secretion sensitivity addition boosting number insulin producing cells reducing stores fat»\n",
      "\n",
      "LEAST (6036, -0.1845981478691101): «cleomyttades»\n",
      "\n"
     ]
    }
   ],
   "source": [
    "# Pick a random document from the test corpus and infer a vector from the model\n",
    "doc_id = random.randint(0, 100)\n",
    "inferred_vector = model.infer_vector(test_corpus[doc_id])\n",
    "sims = model.docvecs.most_similar([inferred_vector], topn=len(model.docvecs))\n",
    "\n",
    "# Compare and print the most/median/least similar documents from the train corpus\n",
    "print(u'Test Document ({}): «{}»\\n'.format(doc_id, ' '.join(test_corpus[doc_id])))\n",
    "print(u'SIMILAR/DISSIMILAR DOCS PER MODEL %s:\\n' % model)\n",
    "for label, index in [('MOST', 1),('MOST', 2),('MOST', 3), ('MEDIAN', len(sims)//2), ('LEAST', len(sims) - 1)]:\n",
    "    print(u'%s %s: «%s»\\n' % (label, sims[index], ' '.join(train_corpus[sims[index][0]].words)))"
   ]
  },
  {
   "cell_type": "code",
   "execution_count": null,
   "metadata": {
    "collapsed": true
   },
   "outputs": [],
   "source": []
  }
 ],
 "metadata": {
  "kernelspec": {
   "display_name": "Python 2",
   "language": "python",
   "name": "python2"
  },
  "language_info": {
   "codemirror_mode": {
    "name": "ipython",
    "version": 2
   },
   "file_extension": ".py",
   "mimetype": "text/x-python",
   "name": "python",
   "nbconvert_exporter": "python",
   "pygments_lexer": "ipython2",
   "version": "2.7.11"
  }
 },
 "nbformat": 4,
 "nbformat_minor": 0
}
